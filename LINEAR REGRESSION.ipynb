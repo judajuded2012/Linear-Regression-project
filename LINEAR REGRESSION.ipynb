{
 "cells": [
  {
   "cell_type": "markdown",
   "id": "8a91be7b",
   "metadata": {},
   "source": [
    "# Linear Regression Project"
   ]
  },
  {
   "cell_type": "markdown",
   "id": "b10b92a6",
   "metadata": {},
   "source": [
    "## Steps Involve in Machine Learning Projects"
   ]
  },
  {
   "cell_type": "markdown",
   "id": "15df39ad",
   "metadata": {},
   "source": [
    "- Import Required Libraries\n",
    "- read dataset\n",
    "- Eda\n",
    " - shape\n",
    " - satatistical analysis\n",
    " - Mssing values \n",
    " - visualisation ( corrrelation, plots, boxplots etc.)\n",
    " - label encoding\n",
    "- divide dataset in inputs and output\n",
    "- split dataset into train and test\n",
    "- prepare model\n",
    "- train maodel\n",
    "- test model\n",
    "- accuracy"
   ]
  },
  {
   "cell_type": "markdown",
   "id": "4384613d",
   "metadata": {},
   "source": [
    "## Importing libraries"
   ]
  },
  {
   "cell_type": "code",
   "execution_count": 1,
   "id": "8f6872df",
   "metadata": {},
   "outputs": [],
   "source": [
    "import pandas as pd\n",
    "import numpy as np\n",
    "import matplotlib.pyplot as plt\n",
    "import seaborn as sns"
   ]
  },
  {
   "cell_type": "markdown",
   "id": "8681e272",
   "metadata": {},
   "source": [
    "## Reading dataset"
   ]
  },
  {
   "cell_type": "code",
   "execution_count": 2,
   "id": "defc99e6",
   "metadata": {},
   "outputs": [],
   "source": [
    "data= pd.read_csv('SeoulBikedata.csv')"
   ]
  },
  {
   "cell_type": "code",
   "execution_count": 3,
   "id": "bfee6099",
   "metadata": {},
   "outputs": [
    {
     "data": {
      "text/html": [
       "<div>\n",
       "<style scoped>\n",
       "    .dataframe tbody tr th:only-of-type {\n",
       "        vertical-align: middle;\n",
       "    }\n",
       "\n",
       "    .dataframe tbody tr th {\n",
       "        vertical-align: top;\n",
       "    }\n",
       "\n",
       "    .dataframe thead th {\n",
       "        text-align: right;\n",
       "    }\n",
       "</style>\n",
       "<table border=\"1\" class=\"dataframe\">\n",
       "  <thead>\n",
       "    <tr style=\"text-align: right;\">\n",
       "      <th></th>\n",
       "      <th>Date</th>\n",
       "      <th>Rented Bike Count</th>\n",
       "      <th>Hour</th>\n",
       "      <th>Temperature(C)</th>\n",
       "      <th>Humidity(%)</th>\n",
       "      <th>Wind speed (m/s)</th>\n",
       "      <th>Visibility (10m)</th>\n",
       "      <th>Dew point temperature(C)</th>\n",
       "      <th>Solar Radiation (MJ/m2)</th>\n",
       "      <th>Rainfall(mm)</th>\n",
       "      <th>Snowfall (cm)</th>\n",
       "      <th>Seasons</th>\n",
       "      <th>Holiday</th>\n",
       "      <th>Functioning Day</th>\n",
       "    </tr>\n",
       "  </thead>\n",
       "  <tbody>\n",
       "    <tr>\n",
       "      <th>0</th>\n",
       "      <td>01/12/2017</td>\n",
       "      <td>254</td>\n",
       "      <td>0</td>\n",
       "      <td>-5.2</td>\n",
       "      <td>37</td>\n",
       "      <td>2.2</td>\n",
       "      <td>2000</td>\n",
       "      <td>-17.6</td>\n",
       "      <td>0.0</td>\n",
       "      <td>0.0</td>\n",
       "      <td>0.0</td>\n",
       "      <td>Winter</td>\n",
       "      <td>No Holiday</td>\n",
       "      <td>Yes</td>\n",
       "    </tr>\n",
       "    <tr>\n",
       "      <th>1</th>\n",
       "      <td>01/12/2017</td>\n",
       "      <td>204</td>\n",
       "      <td>1</td>\n",
       "      <td>-5.5</td>\n",
       "      <td>38</td>\n",
       "      <td>0.8</td>\n",
       "      <td>2000</td>\n",
       "      <td>-17.6</td>\n",
       "      <td>0.0</td>\n",
       "      <td>0.0</td>\n",
       "      <td>0.0</td>\n",
       "      <td>Winter</td>\n",
       "      <td>No Holiday</td>\n",
       "      <td>Yes</td>\n",
       "    </tr>\n",
       "    <tr>\n",
       "      <th>2</th>\n",
       "      <td>01/12/2017</td>\n",
       "      <td>173</td>\n",
       "      <td>2</td>\n",
       "      <td>-6.0</td>\n",
       "      <td>39</td>\n",
       "      <td>1.0</td>\n",
       "      <td>2000</td>\n",
       "      <td>-17.7</td>\n",
       "      <td>0.0</td>\n",
       "      <td>0.0</td>\n",
       "      <td>0.0</td>\n",
       "      <td>Winter</td>\n",
       "      <td>No Holiday</td>\n",
       "      <td>Yes</td>\n",
       "    </tr>\n",
       "    <tr>\n",
       "      <th>3</th>\n",
       "      <td>01/12/2017</td>\n",
       "      <td>107</td>\n",
       "      <td>3</td>\n",
       "      <td>-6.2</td>\n",
       "      <td>40</td>\n",
       "      <td>0.9</td>\n",
       "      <td>2000</td>\n",
       "      <td>-17.6</td>\n",
       "      <td>0.0</td>\n",
       "      <td>0.0</td>\n",
       "      <td>0.0</td>\n",
       "      <td>Winter</td>\n",
       "      <td>No Holiday</td>\n",
       "      <td>Yes</td>\n",
       "    </tr>\n",
       "    <tr>\n",
       "      <th>4</th>\n",
       "      <td>01/12/2017</td>\n",
       "      <td>78</td>\n",
       "      <td>4</td>\n",
       "      <td>-6.0</td>\n",
       "      <td>36</td>\n",
       "      <td>2.3</td>\n",
       "      <td>2000</td>\n",
       "      <td>-18.6</td>\n",
       "      <td>0.0</td>\n",
       "      <td>0.0</td>\n",
       "      <td>0.0</td>\n",
       "      <td>Winter</td>\n",
       "      <td>No Holiday</td>\n",
       "      <td>Yes</td>\n",
       "    </tr>\n",
       "  </tbody>\n",
       "</table>\n",
       "</div>"
      ],
      "text/plain": [
       "         Date  Rented Bike Count  Hour  Temperature(C)  Humidity(%)  \\\n",
       "0  01/12/2017                254     0            -5.2           37   \n",
       "1  01/12/2017                204     1            -5.5           38   \n",
       "2  01/12/2017                173     2            -6.0           39   \n",
       "3  01/12/2017                107     3            -6.2           40   \n",
       "4  01/12/2017                 78     4            -6.0           36   \n",
       "\n",
       "   Wind speed (m/s)  Visibility (10m)  Dew point temperature(C)  \\\n",
       "0               2.2              2000                     -17.6   \n",
       "1               0.8              2000                     -17.6   \n",
       "2               1.0              2000                     -17.7   \n",
       "3               0.9              2000                     -17.6   \n",
       "4               2.3              2000                     -18.6   \n",
       "\n",
       "   Solar Radiation (MJ/m2)  Rainfall(mm)  Snowfall (cm) Seasons     Holiday  \\\n",
       "0                      0.0           0.0            0.0  Winter  No Holiday   \n",
       "1                      0.0           0.0            0.0  Winter  No Holiday   \n",
       "2                      0.0           0.0            0.0  Winter  No Holiday   \n",
       "3                      0.0           0.0            0.0  Winter  No Holiday   \n",
       "4                      0.0           0.0            0.0  Winter  No Holiday   \n",
       "\n",
       "  Functioning Day  \n",
       "0             Yes  \n",
       "1             Yes  \n",
       "2             Yes  \n",
       "3             Yes  \n",
       "4             Yes  "
      ]
     },
     "execution_count": 3,
     "metadata": {},
     "output_type": "execute_result"
    }
   ],
   "source": [
    "data.head()"
   ]
  },
  {
   "cell_type": "code",
   "execution_count": 4,
   "id": "02d182c4",
   "metadata": {},
   "outputs": [
    {
     "data": {
      "text/plain": [
       "(8760, 14)"
      ]
     },
     "execution_count": 4,
     "metadata": {},
     "output_type": "execute_result"
    }
   ],
   "source": [
    "data.shape"
   ]
  },
  {
   "cell_type": "code",
   "execution_count": 5,
   "id": "a417a8c9",
   "metadata": {},
   "outputs": [
    {
     "name": "stdout",
     "output_type": "stream",
     "text": [
      "<class 'pandas.core.frame.DataFrame'>\n",
      "RangeIndex: 8760 entries, 0 to 8759\n",
      "Data columns (total 14 columns):\n",
      " #   Column                    Non-Null Count  Dtype  \n",
      "---  ------                    --------------  -----  \n",
      " 0   Date                      8760 non-null   object \n",
      " 1   Rented Bike Count         8760 non-null   int64  \n",
      " 2   Hour                      8760 non-null   int64  \n",
      " 3   Temperature(C)            8760 non-null   float64\n",
      " 4   Humidity(%)               8760 non-null   int64  \n",
      " 5   Wind speed (m/s)          8760 non-null   float64\n",
      " 6   Visibility (10m)          8760 non-null   int64  \n",
      " 7   Dew point temperature(C)  8760 non-null   float64\n",
      " 8   Solar Radiation (MJ/m2)   8760 non-null   float64\n",
      " 9   Rainfall(mm)              8760 non-null   float64\n",
      " 10  Snowfall (cm)             8760 non-null   float64\n",
      " 11  Seasons                   8760 non-null   object \n",
      " 12  Holiday                   8760 non-null   object \n",
      " 13  Functioning Day           8760 non-null   object \n",
      "dtypes: float64(6), int64(4), object(4)\n",
      "memory usage: 958.2+ KB\n"
     ]
    },
    {
     "data": {
      "text/html": [
       "<div>\n",
       "<style scoped>\n",
       "    .dataframe tbody tr th:only-of-type {\n",
       "        vertical-align: middle;\n",
       "    }\n",
       "\n",
       "    .dataframe tbody tr th {\n",
       "        vertical-align: top;\n",
       "    }\n",
       "\n",
       "    .dataframe thead th {\n",
       "        text-align: right;\n",
       "    }\n",
       "</style>\n",
       "<table border=\"1\" class=\"dataframe\">\n",
       "  <thead>\n",
       "    <tr style=\"text-align: right;\">\n",
       "      <th></th>\n",
       "      <th>Date</th>\n",
       "      <th>Rented Bike Count</th>\n",
       "      <th>Hour</th>\n",
       "      <th>Temperature(C)</th>\n",
       "      <th>Humidity(%)</th>\n",
       "      <th>Wind speed (m/s)</th>\n",
       "      <th>Visibility (10m)</th>\n",
       "      <th>Dew point temperature(C)</th>\n",
       "      <th>Solar Radiation (MJ/m2)</th>\n",
       "      <th>Rainfall(mm)</th>\n",
       "      <th>Snowfall (cm)</th>\n",
       "      <th>Seasons</th>\n",
       "      <th>Holiday</th>\n",
       "      <th>Functioning Day</th>\n",
       "    </tr>\n",
       "  </thead>\n",
       "  <tbody>\n",
       "    <tr>\n",
       "      <th>0</th>\n",
       "      <td>01/12/2017</td>\n",
       "      <td>254</td>\n",
       "      <td>0</td>\n",
       "      <td>-5.2</td>\n",
       "      <td>37</td>\n",
       "      <td>2.2</td>\n",
       "      <td>2000</td>\n",
       "      <td>-17.6</td>\n",
       "      <td>0.0</td>\n",
       "      <td>0.0</td>\n",
       "      <td>0.0</td>\n",
       "      <td>Winter</td>\n",
       "      <td>No Holiday</td>\n",
       "      <td>Yes</td>\n",
       "    </tr>\n",
       "    <tr>\n",
       "      <th>1</th>\n",
       "      <td>01/12/2017</td>\n",
       "      <td>204</td>\n",
       "      <td>1</td>\n",
       "      <td>-5.5</td>\n",
       "      <td>38</td>\n",
       "      <td>0.8</td>\n",
       "      <td>2000</td>\n",
       "      <td>-17.6</td>\n",
       "      <td>0.0</td>\n",
       "      <td>0.0</td>\n",
       "      <td>0.0</td>\n",
       "      <td>Winter</td>\n",
       "      <td>No Holiday</td>\n",
       "      <td>Yes</td>\n",
       "    </tr>\n",
       "    <tr>\n",
       "      <th>2</th>\n",
       "      <td>01/12/2017</td>\n",
       "      <td>173</td>\n",
       "      <td>2</td>\n",
       "      <td>-6.0</td>\n",
       "      <td>39</td>\n",
       "      <td>1.0</td>\n",
       "      <td>2000</td>\n",
       "      <td>-17.7</td>\n",
       "      <td>0.0</td>\n",
       "      <td>0.0</td>\n",
       "      <td>0.0</td>\n",
       "      <td>Winter</td>\n",
       "      <td>No Holiday</td>\n",
       "      <td>Yes</td>\n",
       "    </tr>\n",
       "    <tr>\n",
       "      <th>3</th>\n",
       "      <td>01/12/2017</td>\n",
       "      <td>107</td>\n",
       "      <td>3</td>\n",
       "      <td>-6.2</td>\n",
       "      <td>40</td>\n",
       "      <td>0.9</td>\n",
       "      <td>2000</td>\n",
       "      <td>-17.6</td>\n",
       "      <td>0.0</td>\n",
       "      <td>0.0</td>\n",
       "      <td>0.0</td>\n",
       "      <td>Winter</td>\n",
       "      <td>No Holiday</td>\n",
       "      <td>Yes</td>\n",
       "    </tr>\n",
       "    <tr>\n",
       "      <th>4</th>\n",
       "      <td>01/12/2017</td>\n",
       "      <td>78</td>\n",
       "      <td>4</td>\n",
       "      <td>-6.0</td>\n",
       "      <td>36</td>\n",
       "      <td>2.3</td>\n",
       "      <td>2000</td>\n",
       "      <td>-18.6</td>\n",
       "      <td>0.0</td>\n",
       "      <td>0.0</td>\n",
       "      <td>0.0</td>\n",
       "      <td>Winter</td>\n",
       "      <td>No Holiday</td>\n",
       "      <td>Yes</td>\n",
       "    </tr>\n",
       "    <tr>\n",
       "      <th>...</th>\n",
       "      <td>...</td>\n",
       "      <td>...</td>\n",
       "      <td>...</td>\n",
       "      <td>...</td>\n",
       "      <td>...</td>\n",
       "      <td>...</td>\n",
       "      <td>...</td>\n",
       "      <td>...</td>\n",
       "      <td>...</td>\n",
       "      <td>...</td>\n",
       "      <td>...</td>\n",
       "      <td>...</td>\n",
       "      <td>...</td>\n",
       "      <td>...</td>\n",
       "    </tr>\n",
       "    <tr>\n",
       "      <th>8755</th>\n",
       "      <td>30/11/2018</td>\n",
       "      <td>1003</td>\n",
       "      <td>19</td>\n",
       "      <td>4.2</td>\n",
       "      <td>34</td>\n",
       "      <td>2.6</td>\n",
       "      <td>1894</td>\n",
       "      <td>-10.3</td>\n",
       "      <td>0.0</td>\n",
       "      <td>0.0</td>\n",
       "      <td>0.0</td>\n",
       "      <td>Autumn</td>\n",
       "      <td>No Holiday</td>\n",
       "      <td>Yes</td>\n",
       "    </tr>\n",
       "    <tr>\n",
       "      <th>8756</th>\n",
       "      <td>30/11/2018</td>\n",
       "      <td>764</td>\n",
       "      <td>20</td>\n",
       "      <td>3.4</td>\n",
       "      <td>37</td>\n",
       "      <td>2.3</td>\n",
       "      <td>2000</td>\n",
       "      <td>-9.9</td>\n",
       "      <td>0.0</td>\n",
       "      <td>0.0</td>\n",
       "      <td>0.0</td>\n",
       "      <td>Autumn</td>\n",
       "      <td>No Holiday</td>\n",
       "      <td>Yes</td>\n",
       "    </tr>\n",
       "    <tr>\n",
       "      <th>8757</th>\n",
       "      <td>30/11/2018</td>\n",
       "      <td>694</td>\n",
       "      <td>21</td>\n",
       "      <td>2.6</td>\n",
       "      <td>39</td>\n",
       "      <td>0.3</td>\n",
       "      <td>1968</td>\n",
       "      <td>-9.9</td>\n",
       "      <td>0.0</td>\n",
       "      <td>0.0</td>\n",
       "      <td>0.0</td>\n",
       "      <td>Autumn</td>\n",
       "      <td>No Holiday</td>\n",
       "      <td>Yes</td>\n",
       "    </tr>\n",
       "    <tr>\n",
       "      <th>8758</th>\n",
       "      <td>30/11/2018</td>\n",
       "      <td>712</td>\n",
       "      <td>22</td>\n",
       "      <td>2.1</td>\n",
       "      <td>41</td>\n",
       "      <td>1.0</td>\n",
       "      <td>1859</td>\n",
       "      <td>-9.8</td>\n",
       "      <td>0.0</td>\n",
       "      <td>0.0</td>\n",
       "      <td>0.0</td>\n",
       "      <td>Autumn</td>\n",
       "      <td>No Holiday</td>\n",
       "      <td>Yes</td>\n",
       "    </tr>\n",
       "    <tr>\n",
       "      <th>8759</th>\n",
       "      <td>30/11/2018</td>\n",
       "      <td>584</td>\n",
       "      <td>23</td>\n",
       "      <td>1.9</td>\n",
       "      <td>43</td>\n",
       "      <td>1.3</td>\n",
       "      <td>1909</td>\n",
       "      <td>-9.3</td>\n",
       "      <td>0.0</td>\n",
       "      <td>0.0</td>\n",
       "      <td>0.0</td>\n",
       "      <td>Autumn</td>\n",
       "      <td>No Holiday</td>\n",
       "      <td>Yes</td>\n",
       "    </tr>\n",
       "  </tbody>\n",
       "</table>\n",
       "<p>8760 rows × 14 columns</p>\n",
       "</div>"
      ],
      "text/plain": [
       "            Date  Rented Bike Count  Hour  Temperature(C)  Humidity(%)  \\\n",
       "0     01/12/2017                254     0            -5.2           37   \n",
       "1     01/12/2017                204     1            -5.5           38   \n",
       "2     01/12/2017                173     2            -6.0           39   \n",
       "3     01/12/2017                107     3            -6.2           40   \n",
       "4     01/12/2017                 78     4            -6.0           36   \n",
       "...          ...                ...   ...             ...          ...   \n",
       "8755  30/11/2018               1003    19             4.2           34   \n",
       "8756  30/11/2018                764    20             3.4           37   \n",
       "8757  30/11/2018                694    21             2.6           39   \n",
       "8758  30/11/2018                712    22             2.1           41   \n",
       "8759  30/11/2018                584    23             1.9           43   \n",
       "\n",
       "      Wind speed (m/s)  Visibility (10m)  Dew point temperature(C)  \\\n",
       "0                  2.2              2000                     -17.6   \n",
       "1                  0.8              2000                     -17.6   \n",
       "2                  1.0              2000                     -17.7   \n",
       "3                  0.9              2000                     -17.6   \n",
       "4                  2.3              2000                     -18.6   \n",
       "...                ...               ...                       ...   \n",
       "8755               2.6              1894                     -10.3   \n",
       "8756               2.3              2000                      -9.9   \n",
       "8757               0.3              1968                      -9.9   \n",
       "8758               1.0              1859                      -9.8   \n",
       "8759               1.3              1909                      -9.3   \n",
       "\n",
       "      Solar Radiation (MJ/m2)  Rainfall(mm)  Snowfall (cm) Seasons  \\\n",
       "0                         0.0           0.0            0.0  Winter   \n",
       "1                         0.0           0.0            0.0  Winter   \n",
       "2                         0.0           0.0            0.0  Winter   \n",
       "3                         0.0           0.0            0.0  Winter   \n",
       "4                         0.0           0.0            0.0  Winter   \n",
       "...                       ...           ...            ...     ...   \n",
       "8755                      0.0           0.0            0.0  Autumn   \n",
       "8756                      0.0           0.0            0.0  Autumn   \n",
       "8757                      0.0           0.0            0.0  Autumn   \n",
       "8758                      0.0           0.0            0.0  Autumn   \n",
       "8759                      0.0           0.0            0.0  Autumn   \n",
       "\n",
       "         Holiday Functioning Day  \n",
       "0     No Holiday             Yes  \n",
       "1     No Holiday             Yes  \n",
       "2     No Holiday             Yes  \n",
       "3     No Holiday             Yes  \n",
       "4     No Holiday             Yes  \n",
       "...          ...             ...  \n",
       "8755  No Holiday             Yes  \n",
       "8756  No Holiday             Yes  \n",
       "8757  No Holiday             Yes  \n",
       "8758  No Holiday             Yes  \n",
       "8759  No Holiday             Yes  \n",
       "\n",
       "[8760 rows x 14 columns]"
      ]
     },
     "execution_count": 5,
     "metadata": {},
     "output_type": "execute_result"
    }
   ],
   "source": [
    "data.info()\n",
    "data"
   ]
  },
  {
   "cell_type": "markdown",
   "id": "d959914c",
   "metadata": {},
   "source": [
    "## EDA"
   ]
  },
  {
   "cell_type": "markdown",
   "id": "14388745",
   "metadata": {},
   "source": [
    "### Statisticall Analysis"
   ]
  },
  {
   "cell_type": "code",
   "execution_count": 6,
   "id": "cdde80eb",
   "metadata": {
    "scrolled": true
   },
   "outputs": [
    {
     "data": {
      "text/html": [
       "<div>\n",
       "<style scoped>\n",
       "    .dataframe tbody tr th:only-of-type {\n",
       "        vertical-align: middle;\n",
       "    }\n",
       "\n",
       "    .dataframe tbody tr th {\n",
       "        vertical-align: top;\n",
       "    }\n",
       "\n",
       "    .dataframe thead th {\n",
       "        text-align: right;\n",
       "    }\n",
       "</style>\n",
       "<table border=\"1\" class=\"dataframe\">\n",
       "  <thead>\n",
       "    <tr style=\"text-align: right;\">\n",
       "      <th></th>\n",
       "      <th>count</th>\n",
       "      <th>mean</th>\n",
       "      <th>std</th>\n",
       "      <th>min</th>\n",
       "      <th>25%</th>\n",
       "      <th>50%</th>\n",
       "      <th>75%</th>\n",
       "      <th>max</th>\n",
       "    </tr>\n",
       "  </thead>\n",
       "  <tbody>\n",
       "    <tr>\n",
       "      <th>Rented Bike Count</th>\n",
       "      <td>8760.0</td>\n",
       "      <td>704.602055</td>\n",
       "      <td>644.997468</td>\n",
       "      <td>0.0</td>\n",
       "      <td>191.00</td>\n",
       "      <td>504.50</td>\n",
       "      <td>1065.25</td>\n",
       "      <td>3556.00</td>\n",
       "    </tr>\n",
       "    <tr>\n",
       "      <th>Hour</th>\n",
       "      <td>8760.0</td>\n",
       "      <td>11.500000</td>\n",
       "      <td>6.922582</td>\n",
       "      <td>0.0</td>\n",
       "      <td>5.75</td>\n",
       "      <td>11.50</td>\n",
       "      <td>17.25</td>\n",
       "      <td>23.00</td>\n",
       "    </tr>\n",
       "    <tr>\n",
       "      <th>Temperature(C)</th>\n",
       "      <td>8760.0</td>\n",
       "      <td>12.882922</td>\n",
       "      <td>11.944825</td>\n",
       "      <td>-17.8</td>\n",
       "      <td>3.50</td>\n",
       "      <td>13.70</td>\n",
       "      <td>22.50</td>\n",
       "      <td>39.40</td>\n",
       "    </tr>\n",
       "    <tr>\n",
       "      <th>Humidity(%)</th>\n",
       "      <td>8760.0</td>\n",
       "      <td>58.226256</td>\n",
       "      <td>20.362413</td>\n",
       "      <td>0.0</td>\n",
       "      <td>42.00</td>\n",
       "      <td>57.00</td>\n",
       "      <td>74.00</td>\n",
       "      <td>98.00</td>\n",
       "    </tr>\n",
       "    <tr>\n",
       "      <th>Wind speed (m/s)</th>\n",
       "      <td>8760.0</td>\n",
       "      <td>1.724909</td>\n",
       "      <td>1.036300</td>\n",
       "      <td>0.0</td>\n",
       "      <td>0.90</td>\n",
       "      <td>1.50</td>\n",
       "      <td>2.30</td>\n",
       "      <td>7.40</td>\n",
       "    </tr>\n",
       "    <tr>\n",
       "      <th>Visibility (10m)</th>\n",
       "      <td>8760.0</td>\n",
       "      <td>1436.825799</td>\n",
       "      <td>608.298712</td>\n",
       "      <td>27.0</td>\n",
       "      <td>940.00</td>\n",
       "      <td>1698.00</td>\n",
       "      <td>2000.00</td>\n",
       "      <td>2000.00</td>\n",
       "    </tr>\n",
       "    <tr>\n",
       "      <th>Dew point temperature(C)</th>\n",
       "      <td>8760.0</td>\n",
       "      <td>4.073813</td>\n",
       "      <td>13.060369</td>\n",
       "      <td>-30.6</td>\n",
       "      <td>-4.70</td>\n",
       "      <td>5.10</td>\n",
       "      <td>14.80</td>\n",
       "      <td>27.20</td>\n",
       "    </tr>\n",
       "    <tr>\n",
       "      <th>Solar Radiation (MJ/m2)</th>\n",
       "      <td>8760.0</td>\n",
       "      <td>0.569111</td>\n",
       "      <td>0.868746</td>\n",
       "      <td>0.0</td>\n",
       "      <td>0.00</td>\n",
       "      <td>0.01</td>\n",
       "      <td>0.93</td>\n",
       "      <td>3.52</td>\n",
       "    </tr>\n",
       "    <tr>\n",
       "      <th>Rainfall(mm)</th>\n",
       "      <td>8760.0</td>\n",
       "      <td>0.148687</td>\n",
       "      <td>1.128193</td>\n",
       "      <td>0.0</td>\n",
       "      <td>0.00</td>\n",
       "      <td>0.00</td>\n",
       "      <td>0.00</td>\n",
       "      <td>35.00</td>\n",
       "    </tr>\n",
       "    <tr>\n",
       "      <th>Snowfall (cm)</th>\n",
       "      <td>8760.0</td>\n",
       "      <td>0.075068</td>\n",
       "      <td>0.436746</td>\n",
       "      <td>0.0</td>\n",
       "      <td>0.00</td>\n",
       "      <td>0.00</td>\n",
       "      <td>0.00</td>\n",
       "      <td>8.80</td>\n",
       "    </tr>\n",
       "  </tbody>\n",
       "</table>\n",
       "</div>"
      ],
      "text/plain": [
       "                           count         mean         std   min     25%  \\\n",
       "Rented Bike Count         8760.0   704.602055  644.997468   0.0  191.00   \n",
       "Hour                      8760.0    11.500000    6.922582   0.0    5.75   \n",
       "Temperature(C)            8760.0    12.882922   11.944825 -17.8    3.50   \n",
       "Humidity(%)               8760.0    58.226256   20.362413   0.0   42.00   \n",
       "Wind speed (m/s)          8760.0     1.724909    1.036300   0.0    0.90   \n",
       "Visibility (10m)          8760.0  1436.825799  608.298712  27.0  940.00   \n",
       "Dew point temperature(C)  8760.0     4.073813   13.060369 -30.6   -4.70   \n",
       "Solar Radiation (MJ/m2)   8760.0     0.569111    0.868746   0.0    0.00   \n",
       "Rainfall(mm)              8760.0     0.148687    1.128193   0.0    0.00   \n",
       "Snowfall (cm)             8760.0     0.075068    0.436746   0.0    0.00   \n",
       "\n",
       "                              50%      75%      max  \n",
       "Rented Bike Count          504.50  1065.25  3556.00  \n",
       "Hour                        11.50    17.25    23.00  \n",
       "Temperature(C)              13.70    22.50    39.40  \n",
       "Humidity(%)                 57.00    74.00    98.00  \n",
       "Wind speed (m/s)             1.50     2.30     7.40  \n",
       "Visibility (10m)          1698.00  2000.00  2000.00  \n",
       "Dew point temperature(C)     5.10    14.80    27.20  \n",
       "Solar Radiation (MJ/m2)      0.01     0.93     3.52  \n",
       "Rainfall(mm)                 0.00     0.00    35.00  \n",
       "Snowfall (cm)                0.00     0.00     8.80  "
      ]
     },
     "execution_count": 6,
     "metadata": {},
     "output_type": "execute_result"
    }
   ],
   "source": [
    "data.describe().T"
   ]
  },
  {
   "cell_type": "code",
   "execution_count": 7,
   "id": "a2c4db63",
   "metadata": {},
   "outputs": [
    {
     "data": {
      "text/plain": [
       "Date                        0\n",
       "Rented Bike Count           0\n",
       "Hour                        0\n",
       "Temperature(C)              0\n",
       "Humidity(%)                 0\n",
       "Wind speed (m/s)            0\n",
       "Visibility (10m)            0\n",
       "Dew point temperature(C)    0\n",
       "Solar Radiation (MJ/m2)     0\n",
       "Rainfall(mm)                0\n",
       "Snowfall (cm)               0\n",
       "Seasons                     0\n",
       "Holiday                     0\n",
       "Functioning Day             0\n",
       "dtype: int64"
      ]
     },
     "execution_count": 7,
     "metadata": {},
     "output_type": "execute_result"
    }
   ],
   "source": [
    "miss_val=data.isna().sum()\n",
    "miss_val"
   ]
  },
  {
   "cell_type": "markdown",
   "id": "7bc24621",
   "metadata": {},
   "source": [
    "# Encoding Data"
   ]
  },
  {
   "cell_type": "code",
   "execution_count": 8,
   "id": "88bac9ca",
   "metadata": {},
   "outputs": [
    {
     "data": {
      "text/html": [
       "<div>\n",
       "<style scoped>\n",
       "    .dataframe tbody tr th:only-of-type {\n",
       "        vertical-align: middle;\n",
       "    }\n",
       "\n",
       "    .dataframe tbody tr th {\n",
       "        vertical-align: top;\n",
       "    }\n",
       "\n",
       "    .dataframe thead th {\n",
       "        text-align: right;\n",
       "    }\n",
       "</style>\n",
       "<table border=\"1\" class=\"dataframe\">\n",
       "  <thead>\n",
       "    <tr style=\"text-align: right;\">\n",
       "      <th></th>\n",
       "      <th>Rented Bike Count</th>\n",
       "      <th>Hour</th>\n",
       "      <th>Temperature(C)</th>\n",
       "      <th>Humidity(%)</th>\n",
       "      <th>Wind speed (m/s)</th>\n",
       "      <th>Visibility (10m)</th>\n",
       "      <th>Dew point temperature(C)</th>\n",
       "      <th>Solar Radiation (MJ/m2)</th>\n",
       "      <th>Seasons</th>\n",
       "      <th>Holiday</th>\n",
       "    </tr>\n",
       "  </thead>\n",
       "  <tbody>\n",
       "    <tr>\n",
       "      <th>0</th>\n",
       "      <td>254</td>\n",
       "      <td>0</td>\n",
       "      <td>-5.2</td>\n",
       "      <td>37</td>\n",
       "      <td>2.2</td>\n",
       "      <td>2000</td>\n",
       "      <td>-17.6</td>\n",
       "      <td>0.0</td>\n",
       "      <td>Winter</td>\n",
       "      <td>No Holiday</td>\n",
       "    </tr>\n",
       "    <tr>\n",
       "      <th>1</th>\n",
       "      <td>204</td>\n",
       "      <td>1</td>\n",
       "      <td>-5.5</td>\n",
       "      <td>38</td>\n",
       "      <td>0.8</td>\n",
       "      <td>2000</td>\n",
       "      <td>-17.6</td>\n",
       "      <td>0.0</td>\n",
       "      <td>Winter</td>\n",
       "      <td>No Holiday</td>\n",
       "    </tr>\n",
       "  </tbody>\n",
       "</table>\n",
       "</div>"
      ],
      "text/plain": [
       "   Rented Bike Count  Hour  Temperature(C)  Humidity(%)  Wind speed (m/s)  \\\n",
       "0                254     0            -5.2           37               2.2   \n",
       "1                204     1            -5.5           38               0.8   \n",
       "\n",
       "   Visibility (10m)  Dew point temperature(C)  Solar Radiation (MJ/m2)  \\\n",
       "0              2000                     -17.6                      0.0   \n",
       "1              2000                     -17.6                      0.0   \n",
       "\n",
       "  Seasons     Holiday  \n",
       "0  Winter  No Holiday  \n",
       "1  Winter  No Holiday  "
      ]
     },
     "execution_count": 8,
     "metadata": {},
     "output_type": "execute_result"
    }
   ],
   "source": [
    "data.drop(['Date','Functioning Day','Rainfall(mm)', 'Snowfall (cm)'],axis = 1,inplace = True)\n",
    "data.head(2)\n"
   ]
  },
  {
   "cell_type": "code",
   "execution_count": 9,
   "id": "5fc655dc",
   "metadata": {},
   "outputs": [
    {
     "data": {
      "text/html": [
       "<div>\n",
       "<style scoped>\n",
       "    .dataframe tbody tr th:only-of-type {\n",
       "        vertical-align: middle;\n",
       "    }\n",
       "\n",
       "    .dataframe tbody tr th {\n",
       "        vertical-align: top;\n",
       "    }\n",
       "\n",
       "    .dataframe thead th {\n",
       "        text-align: right;\n",
       "    }\n",
       "</style>\n",
       "<table border=\"1\" class=\"dataframe\">\n",
       "  <thead>\n",
       "    <tr style=\"text-align: right;\">\n",
       "      <th></th>\n",
       "      <th>Rented Bike Count</th>\n",
       "      <th>Hour</th>\n",
       "      <th>Temperature(C)</th>\n",
       "      <th>Humidity(%)</th>\n",
       "      <th>Wind speed (m/s)</th>\n",
       "      <th>Visibility (10m)</th>\n",
       "      <th>Dew point temperature(C)</th>\n",
       "      <th>Solar Radiation (MJ/m2)</th>\n",
       "      <th>Seasons</th>\n",
       "      <th>Holiday</th>\n",
       "    </tr>\n",
       "  </thead>\n",
       "  <tbody>\n",
       "    <tr>\n",
       "      <th>0</th>\n",
       "      <td>254</td>\n",
       "      <td>0</td>\n",
       "      <td>-5.2</td>\n",
       "      <td>37</td>\n",
       "      <td>2.2</td>\n",
       "      <td>2000</td>\n",
       "      <td>-17.6</td>\n",
       "      <td>0.0</td>\n",
       "      <td>3</td>\n",
       "      <td>1</td>\n",
       "    </tr>\n",
       "    <tr>\n",
       "      <th>1</th>\n",
       "      <td>204</td>\n",
       "      <td>1</td>\n",
       "      <td>-5.5</td>\n",
       "      <td>38</td>\n",
       "      <td>0.8</td>\n",
       "      <td>2000</td>\n",
       "      <td>-17.6</td>\n",
       "      <td>0.0</td>\n",
       "      <td>3</td>\n",
       "      <td>1</td>\n",
       "    </tr>\n",
       "    <tr>\n",
       "      <th>2</th>\n",
       "      <td>173</td>\n",
       "      <td>2</td>\n",
       "      <td>-6.0</td>\n",
       "      <td>39</td>\n",
       "      <td>1.0</td>\n",
       "      <td>2000</td>\n",
       "      <td>-17.7</td>\n",
       "      <td>0.0</td>\n",
       "      <td>3</td>\n",
       "      <td>1</td>\n",
       "    </tr>\n",
       "  </tbody>\n",
       "</table>\n",
       "</div>"
      ],
      "text/plain": [
       "   Rented Bike Count  Hour  Temperature(C)  Humidity(%)  Wind speed (m/s)  \\\n",
       "0                254     0            -5.2           37               2.2   \n",
       "1                204     1            -5.5           38               0.8   \n",
       "2                173     2            -6.0           39               1.0   \n",
       "\n",
       "   Visibility (10m)  Dew point temperature(C)  Solar Radiation (MJ/m2)  \\\n",
       "0              2000                     -17.6                      0.0   \n",
       "1              2000                     -17.6                      0.0   \n",
       "2              2000                     -17.7                      0.0   \n",
       "\n",
       "   Seasons  Holiday  \n",
       "0        3        1  \n",
       "1        3        1  \n",
       "2        3        1  "
      ]
     },
     "execution_count": 9,
     "metadata": {},
     "output_type": "execute_result"
    }
   ],
   "source": [
    "from sklearn.preprocessing import LabelEncoder\n",
    "Le=LabelEncoder()\n",
    "data[\"Seasons\"] =Le.fit_transform(data[\"Seasons\"])\n",
    "data[\"Holiday\"] =Le.fit_transform(data[\"Holiday\"])\n",
    "\n",
    "data.head(3)"
   ]
  },
  {
   "cell_type": "markdown",
   "id": "4cd20a1e",
   "metadata": {},
   "source": [
    "# Checking Outliers"
   ]
  },
  {
   "cell_type": "code",
   "execution_count": 10,
   "id": "144551b3",
   "metadata": {},
   "outputs": [
    {
     "data": {
      "text/plain": [
       "Index(['Rented Bike Count', 'Hour', 'Temperature(C)', 'Humidity(%)',\n",
       "       'Wind speed (m/s)', 'Visibility (10m)', 'Dew point temperature(C)',\n",
       "       'Solar Radiation (MJ/m2)', 'Seasons', 'Holiday'],\n",
       "      dtype='object')"
      ]
     },
     "execution_count": 10,
     "metadata": {},
     "output_type": "execute_result"
    }
   ],
   "source": [
    "da_col = data.columns\n",
    "da_col"
   ]
  },
  {
   "cell_type": "code",
   "execution_count": 11,
   "id": "5f343423",
   "metadata": {},
   "outputs": [
    {
     "data": {
      "image/png": "[encoded data removed]",
      "text/plain": [
       "<Figure size 1152x1152 with 10 Axes>"
      ]
     },
     "metadata": {
      "needs_background": "light"
     },
     "output_type": "display_data"
    }
   ],
   "source": [
    "plt.figure(figsize=(16,16))\n",
    "\n",
    "for i in enumerate(da_col):\n",
    "    plt.subplot(3,4,i[0]+1)\n",
    "    sns.boxplot(x = i[1],hue='Rented Bike Count',data = data)"
   ]
  },
  {
   "cell_type": "code",
   "execution_count": 12,
   "id": "eb217ead",
   "metadata": {},
   "outputs": [
    {
     "name": "stderr",
     "output_type": "stream",
     "text": [
      "C:\\Users\\16176\\anaconda3\\lib\\site-packages\\seaborn\\_decorators.py:36: FutureWarning: Pass the following variable as a keyword arg: x. From version 0.12, the only valid positional argument will be `data`, and passing other arguments without an explicit keyword will result in an error or misinterpretation.\n",
      "  warnings.warn(\n"
     ]
    },
    {
     "data": {
      "text/plain": [
       "<AxesSubplot:xlabel='Wind speed (m/s)'>"
      ]
     },
     "execution_count": 12,
     "metadata": {},
     "output_type": "execute_result"
    },
    {
     "data": {
      "image/png": "[encoded data removed]",
      "text/plain": [
       "<Figure size 360x360 with 1 Axes>"
      ]
     },
     "metadata": {
      "needs_background": "light"
     },
     "output_type": "display_data"
    }
   ],
   "source": [
    "plt.figure(figsize=(5,5))\n",
    "sns.boxplot(data[\"Wind speed (m/s)\"])"
   ]
  },
  {
   "cell_type": "code",
   "execution_count": 13,
   "id": "4263875e",
   "metadata": {},
   "outputs": [
    {
     "name": "stdout",
     "output_type": "stream",
     "text": [
      "0.9 2.3 1.4 -1.1999999999999997 4.3999999999999995\n"
     ]
    }
   ],
   "source": [
    "Q1 , Q3 = np.percentile(data['Wind speed (m/s)'],[25,75])\n",
    "IQR = Q3 - Q1\n",
    "low_lim = Q1 - (1.5*IQR) \n",
    "up_lim = Q3+ (1.5*IQR)\n",
    "\n",
    "print(Q1, Q3, IQR, low_lim, up_lim)"
   ]
  },
  {
   "cell_type": "code",
   "execution_count": 14,
   "id": "ff4c3fa4",
   "metadata": {},
   "outputs": [],
   "source": [
    "data = data[data[\"Wind speed (m/s)\"]<up_lim]\n",
    "data = data[data[\"Wind speed (m/s)\"]>low_lim]"
   ]
  },
  {
   "cell_type": "code",
   "execution_count": 15,
   "id": "661d5c51",
   "metadata": {},
   "outputs": [
    {
     "name": "stderr",
     "output_type": "stream",
     "text": [
      "C:\\Users\\16176\\anaconda3\\lib\\site-packages\\seaborn\\_decorators.py:36: FutureWarning: Pass the following variable as a keyword arg: x. From version 0.12, the only valid positional argument will be `data`, and passing other arguments without an explicit keyword will result in an error or misinterpretation.\n",
      "  warnings.warn(\n"
     ]
    },
    {
     "data": {
      "text/plain": [
       "<AxesSubplot:xlabel='Wind speed (m/s)'>"
      ]
     },
     "execution_count": 15,
     "metadata": {},
     "output_type": "execute_result"
    },
    {
     "data": {
      "image/png": "[encoded data removed]",
      "text/plain": [
       "<Figure size 360x360 with 1 Axes>"
      ]
     },
     "metadata": {
      "needs_background": "light"
     },
     "output_type": "display_data"
    }
   ],
   "source": [
    "plt.figure(figsize=(5,5))\n",
    "sns.boxplot(data[\"Wind speed (m/s)\"])"
   ]
  },
  {
   "cell_type": "code",
   "execution_count": 16,
   "id": "21c4b02c",
   "metadata": {},
   "outputs": [
    {
     "name": "stdout",
     "output_type": "stream",
     "text": [
      "0.0 0.9 0.9 -1.35 2.25\n"
     ]
    }
   ],
   "source": [
    "Q1 , Q3 = np.percentile(data[ 'Solar Radiation (MJ/m2)'],[25,75])\n",
    "IQR = Q3 - Q1\n",
    "low_lim = Q1 - (1.5*IQR) \n",
    "up_lim = Q3+ (1.5*IQR)\n",
    "\n",
    "print(Q1, Q3, IQR, low_lim, up_lim)"
   ]
  },
  {
   "cell_type": "code",
   "execution_count": 17,
   "id": "dc5f9781",
   "metadata": {},
   "outputs": [],
   "source": [
    "data = data[data['Solar Radiation (MJ/m2)']<up_lim]\n",
    "data = data[data[ 'Solar Radiation (MJ/m2)']>low_lim]"
   ]
  },
  {
   "cell_type": "code",
   "execution_count": 18,
   "id": "3df77943",
   "metadata": {},
   "outputs": [
    {
     "name": "stderr",
     "output_type": "stream",
     "text": [
      "C:\\Users\\16176\\anaconda3\\lib\\site-packages\\seaborn\\_decorators.py:36: FutureWarning: Pass the following variable as a keyword arg: x. From version 0.12, the only valid positional argument will be `data`, and passing other arguments without an explicit keyword will result in an error or misinterpretation.\n",
      "  warnings.warn(\n"
     ]
    },
    {
     "data": {
      "text/plain": [
       "<AxesSubplot:xlabel='Solar Radiation (MJ/m2)'>"
      ]
     },
     "execution_count": 18,
     "metadata": {},
     "output_type": "execute_result"
    },
    {
     "data": {
      "image/png": "[encoded data removed]",
      "text/plain": [
       "<Figure size 360x360 with 1 Axes>"
      ]
     },
     "metadata": {
      "needs_background": "light"
     },
     "output_type": "display_data"
    }
   ],
   "source": [
    "plt.figure(figsize=(5,5))\n",
    "sns.boxplot(data['Solar Radiation (MJ/m2)'])"
   ]
  },
  {
   "cell_type": "code",
   "execution_count": null,
   "id": "f9bf8338",
   "metadata": {},
   "outputs": [],
   "source": []
  },
  {
   "cell_type": "raw",
   "id": "4b3984e4",
   "metadata": {},
   "source": []
  },
  {
   "cell_type": "code",
   "execution_count": null,
   "id": "67fc239b",
   "metadata": {},
   "outputs": [],
   "source": []
  },
  {
   "cell_type": "markdown",
   "id": "83066790",
   "metadata": {},
   "source": [
    "# Corr"
   ]
  },
  {
   "cell_type": "code",
   "execution_count": 19,
   "id": "6d25fa2d",
   "metadata": {},
   "outputs": [
    {
     "data": {
      "text/html": [
       "<div>\n",
       "<style scoped>\n",
       "    .dataframe tbody tr th:only-of-type {\n",
       "        vertical-align: middle;\n",
       "    }\n",
       "\n",
       "    .dataframe tbody tr th {\n",
       "        vertical-align: top;\n",
       "    }\n",
       "\n",
       "    .dataframe thead th {\n",
       "        text-align: right;\n",
       "    }\n",
       "</style>\n",
       "<table border=\"1\" class=\"dataframe\">\n",
       "  <thead>\n",
       "    <tr style=\"text-align: right;\">\n",
       "      <th></th>\n",
       "      <th>Rented Bike Count</th>\n",
       "      <th>Hour</th>\n",
       "      <th>Temperature(C)</th>\n",
       "      <th>Humidity(%)</th>\n",
       "      <th>Wind speed (m/s)</th>\n",
       "      <th>Visibility (10m)</th>\n",
       "      <th>Dew point temperature(C)</th>\n",
       "      <th>Solar Radiation (MJ/m2)</th>\n",
       "      <th>Seasons</th>\n",
       "      <th>Holiday</th>\n",
       "    </tr>\n",
       "  </thead>\n",
       "  <tbody>\n",
       "    <tr>\n",
       "      <th>Rented Bike Count</th>\n",
       "      <td>1.000000</td>\n",
       "      <td>0.414797</td>\n",
       "      <td>0.537780</td>\n",
       "      <td>-0.176562</td>\n",
       "      <td>0.135288</td>\n",
       "      <td>0.196567</td>\n",
       "      <td>0.382032</td>\n",
       "      <td>0.246138</td>\n",
       "      <td>-0.243095</td>\n",
       "      <td>0.075650</td>\n",
       "    </tr>\n",
       "    <tr>\n",
       "      <th>Hour</th>\n",
       "      <td>0.414797</td>\n",
       "      <td>1.000000</td>\n",
       "      <td>0.116513</td>\n",
       "      <td>-0.233066</td>\n",
       "      <td>0.287022</td>\n",
       "      <td>0.093947</td>\n",
       "      <td>0.001622</td>\n",
       "      <td>0.147530</td>\n",
       "      <td>0.000628</td>\n",
       "      <td>0.000758</td>\n",
       "    </tr>\n",
       "    <tr>\n",
       "      <th>Temperature(C)</th>\n",
       "      <td>0.537780</td>\n",
       "      <td>0.116513</td>\n",
       "      <td>1.000000</td>\n",
       "      <td>0.243716</td>\n",
       "      <td>-0.065874</td>\n",
       "      <td>0.014340</td>\n",
       "      <td>0.925929</td>\n",
       "      <td>0.251453</td>\n",
       "      <td>-0.351972</td>\n",
       "      <td>0.050671</td>\n",
       "    </tr>\n",
       "    <tr>\n",
       "      <th>Humidity(%)</th>\n",
       "      <td>-0.176562</td>\n",
       "      <td>-0.233066</td>\n",
       "      <td>0.243716</td>\n",
       "      <td>1.000000</td>\n",
       "      <td>-0.301664</td>\n",
       "      <td>-0.546503</td>\n",
       "      <td>0.581140</td>\n",
       "      <td>-0.389728</td>\n",
       "      <td>-0.143467</td>\n",
       "      <td>0.051126</td>\n",
       "    </tr>\n",
       "    <tr>\n",
       "      <th>Wind speed (m/s)</th>\n",
       "      <td>0.135288</td>\n",
       "      <td>0.287022</td>\n",
       "      <td>-0.065874</td>\n",
       "      <td>-0.301664</td>\n",
       "      <td>1.000000</td>\n",
       "      <td>0.165041</td>\n",
       "      <td>-0.178699</td>\n",
       "      <td>0.289969</td>\n",
       "      <td>0.122844</td>\n",
       "      <td>-0.014212</td>\n",
       "    </tr>\n",
       "    <tr>\n",
       "      <th>Visibility (10m)</th>\n",
       "      <td>0.196567</td>\n",
       "      <td>0.093947</td>\n",
       "      <td>0.014340</td>\n",
       "      <td>-0.546503</td>\n",
       "      <td>0.165041</td>\n",
       "      <td>1.000000</td>\n",
       "      <td>-0.185429</td>\n",
       "      <td>0.116002</td>\n",
       "      <td>-0.009530</td>\n",
       "      <td>-0.035920</td>\n",
       "    </tr>\n",
       "    <tr>\n",
       "      <th>Dew point temperature(C)</th>\n",
       "      <td>0.382032</td>\n",
       "      <td>0.001622</td>\n",
       "      <td>0.925929</td>\n",
       "      <td>0.581140</td>\n",
       "      <td>-0.178699</td>\n",
       "      <td>-0.185429</td>\n",
       "      <td>1.000000</td>\n",
       "      <td>0.045623</td>\n",
       "      <td>-0.343955</td>\n",
       "      <td>0.060285</td>\n",
       "    </tr>\n",
       "    <tr>\n",
       "      <th>Solar Radiation (MJ/m2)</th>\n",
       "      <td>0.246138</td>\n",
       "      <td>0.147530</td>\n",
       "      <td>0.251453</td>\n",
       "      <td>-0.389728</td>\n",
       "      <td>0.289969</td>\n",
       "      <td>0.116002</td>\n",
       "      <td>0.045623</td>\n",
       "      <td>1.000000</td>\n",
       "      <td>-0.063242</td>\n",
       "      <td>0.011302</td>\n",
       "    </tr>\n",
       "    <tr>\n",
       "      <th>Seasons</th>\n",
       "      <td>-0.243095</td>\n",
       "      <td>0.000628</td>\n",
       "      <td>-0.351972</td>\n",
       "      <td>-0.143467</td>\n",
       "      <td>0.122844</td>\n",
       "      <td>-0.009530</td>\n",
       "      <td>-0.343955</td>\n",
       "      <td>-0.063242</td>\n",
       "      <td>1.000000</td>\n",
       "      <td>-0.053116</td>\n",
       "    </tr>\n",
       "    <tr>\n",
       "      <th>Holiday</th>\n",
       "      <td>0.075650</td>\n",
       "      <td>0.000758</td>\n",
       "      <td>0.050671</td>\n",
       "      <td>0.051126</td>\n",
       "      <td>-0.014212</td>\n",
       "      <td>-0.035920</td>\n",
       "      <td>0.060285</td>\n",
       "      <td>0.011302</td>\n",
       "      <td>-0.053116</td>\n",
       "      <td>1.000000</td>\n",
       "    </tr>\n",
       "  </tbody>\n",
       "</table>\n",
       "</div>"
      ],
      "text/plain": [
       "                          Rented Bike Count      Hour  Temperature(C)  \\\n",
       "Rented Bike Count                  1.000000  0.414797        0.537780   \n",
       "Hour                               0.414797  1.000000        0.116513   \n",
       "Temperature(C)                     0.537780  0.116513        1.000000   \n",
       "Humidity(%)                       -0.176562 -0.233066        0.243716   \n",
       "Wind speed (m/s)                   0.135288  0.287022       -0.065874   \n",
       "Visibility (10m)                   0.196567  0.093947        0.014340   \n",
       "Dew point temperature(C)           0.382032  0.001622        0.925929   \n",
       "Solar Radiation (MJ/m2)            0.246138  0.147530        0.251453   \n",
       "Seasons                           -0.243095  0.000628       -0.351972   \n",
       "Holiday                            0.075650  0.000758        0.050671   \n",
       "\n",
       "                          Humidity(%)  Wind speed (m/s)  Visibility (10m)  \\\n",
       "Rented Bike Count           -0.176562          0.135288          0.196567   \n",
       "Hour                        -0.233066          0.287022          0.093947   \n",
       "Temperature(C)               0.243716         -0.065874          0.014340   \n",
       "Humidity(%)                  1.000000         -0.301664         -0.546503   \n",
       "Wind speed (m/s)            -0.301664          1.000000          0.165041   \n",
       "Visibility (10m)            -0.546503          0.165041          1.000000   \n",
       "Dew point temperature(C)     0.581140         -0.178699         -0.185429   \n",
       "Solar Radiation (MJ/m2)     -0.389728          0.289969          0.116002   \n",
       "Seasons                     -0.143467          0.122844         -0.009530   \n",
       "Holiday                      0.051126         -0.014212         -0.035920   \n",
       "\n",
       "                          Dew point temperature(C)  Solar Radiation (MJ/m2)  \\\n",
       "Rented Bike Count                         0.382032                 0.246138   \n",
       "Hour                                      0.001622                 0.147530   \n",
       "Temperature(C)                            0.925929                 0.251453   \n",
       "Humidity(%)                               0.581140                -0.389728   \n",
       "Wind speed (m/s)                         -0.178699                 0.289969   \n",
       "Visibility (10m)                         -0.185429                 0.116002   \n",
       "Dew point temperature(C)                  1.000000                 0.045623   \n",
       "Solar Radiation (MJ/m2)                   0.045623                 1.000000   \n",
       "Seasons                                  -0.343955                -0.063242   \n",
       "Holiday                                   0.060285                 0.011302   \n",
       "\n",
       "                           Seasons   Holiday  \n",
       "Rented Bike Count        -0.243095  0.075650  \n",
       "Hour                      0.000628  0.000758  \n",
       "Temperature(C)           -0.351972  0.050671  \n",
       "Humidity(%)              -0.143467  0.051126  \n",
       "Wind speed (m/s)          0.122844 -0.014212  \n",
       "Visibility (10m)         -0.009530 -0.035920  \n",
       "Dew point temperature(C) -0.343955  0.060285  \n",
       "Solar Radiation (MJ/m2)  -0.063242  0.011302  \n",
       "Seasons                   1.000000 -0.053116  \n",
       "Holiday                  -0.053116  1.000000  "
      ]
     },
     "execution_count": 19,
     "metadata": {},
     "output_type": "execute_result"
    }
   ],
   "source": [
    "corr_data= data.corr()\n",
    "corr_data"
   ]
  },
  {
   "cell_type": "code",
   "execution_count": 20,
   "id": "9fe2045c",
   "metadata": {},
   "outputs": [
    {
     "data": {
      "text/plain": [
       "<AxesSubplot:>"
      ]
     },
     "execution_count": 20,
     "metadata": {},
     "output_type": "execute_result"
    },
    {
     "data": {
      "image/png": "[encoded data removed]",
      "text/plain": [
       "<Figure size 1152x648 with 2 Axes>"
      ]
     },
     "metadata": {
      "needs_background": "light"
     },
     "output_type": "display_data"
    }
   ],
   "source": [
    "plt.figure(figsize= (16,9))\n",
    "sns.heatmap(corr_data, annot= True, square=True)"
   ]
  },
  {
   "cell_type": "code",
   "execution_count": 21,
   "id": "b78f869f",
   "metadata": {},
   "outputs": [
    {
     "data": {
      "text/plain": [
       "Dew point temperature(C)    0.382032\n",
       "Hour                        0.414797\n",
       "Temperature(C)              0.537780\n",
       "Rented Bike Count           1.000000\n",
       "Name: Rented Bike Count, dtype: float64"
      ]
     },
     "execution_count": 21,
     "metadata": {},
     "output_type": "execute_result"
    }
   ],
   "source": [
    "corr_data = corr_data['Rented Bike Count'][:-1]\n",
    "corr_data[abs(corr_data)>=0.30].sort_values(ascending = True)"
   ]
  },
  {
   "cell_type": "markdown",
   "id": "a7c08602",
   "metadata": {},
   "source": [
    "# Spliting Dataset"
   ]
  },
  {
   "cell_type": "code",
   "execution_count": 22,
   "id": "88117bb0",
   "metadata": {},
   "outputs": [
    {
     "data": {
      "text/plain": [
       "Index(['Rented Bike Count', 'Hour', 'Temperature(C)', 'Humidity(%)',\n",
       "       'Wind speed (m/s)', 'Visibility (10m)', 'Dew point temperature(C)',\n",
       "       'Solar Radiation (MJ/m2)', 'Seasons', 'Holiday'],\n",
       "      dtype='object')"
      ]
     },
     "execution_count": 22,
     "metadata": {},
     "output_type": "execute_result"
    }
   ],
   "source": [
    "data.columns"
   ]
  },
  {
   "cell_type": "code",
   "execution_count": 23,
   "id": "7cf97d34",
   "metadata": {},
   "outputs": [],
   "source": [
    "x = data.drop(['Rented Bike Count'],axis = 1)\n",
    "\n",
    "y = data['Rented Bike Count']"
   ]
  },
  {
   "cell_type": "code",
   "execution_count": 24,
   "id": "46377c45",
   "metadata": {},
   "outputs": [
    {
     "name": "stdout",
     "output_type": "stream",
     "text": [
      "(7908, 9) (7908,)\n"
     ]
    }
   ],
   "source": [
    "print(x.shape, y.shape)"
   ]
  },
  {
   "cell_type": "code",
   "execution_count": 25,
   "id": "0f6d9dd5",
   "metadata": {},
   "outputs": [],
   "source": [
    "from sklearn.model_selection import train_test_split\n",
    "x_train,x_test,y_train,y_test=train_test_split(x,y,test_size=0.20)\n"
   ]
  },
  {
   "cell_type": "code",
   "execution_count": 26,
   "id": "70a68c00",
   "metadata": {},
   "outputs": [
    {
     "data": {
      "text/plain": [
       "LinearRegression()"
      ]
     },
     "execution_count": 26,
     "metadata": {},
     "output_type": "execute_result"
    }
   ],
   "source": [
    "from sklearn.linear_model import LinearRegression\n",
    "model=LinearRegression()\n",
    "model.fit(x_train,y_train)\n"
   ]
  },
  {
   "cell_type": "markdown",
   "id": "a86447d7",
   "metadata": {},
   "source": [
    "# Testing Model"
   ]
  },
  {
   "cell_type": "code",
   "execution_count": 27,
   "id": "8dd55690",
   "metadata": {},
   "outputs": [],
   "source": [
    "model_pred=model.predict(x_test)"
   ]
  },
  {
   "cell_type": "markdown",
   "id": "7ad09380",
   "metadata": {},
   "source": [
    "# Checking Accuracy"
   ]
  },
  {
   "cell_type": "code",
   "execution_count": 28,
   "id": "2fe77c02",
   "metadata": {},
   "outputs": [
    {
     "name": "stdout",
     "output_type": "stream",
     "text": [
      "Accuracy Score is: 0.5196219072348942\n"
     ]
    }
   ],
   "source": [
    "model_score = model.score(x_test, y_test)\n",
    "print(\"Accuracy Score is:\",model_score)"
   ]
  },
  {
   "cell_type": "markdown",
   "id": "23db71cc",
   "metadata": {},
   "source": [
    "# Ridge Regression"
   ]
  },
  {
   "cell_type": "code",
   "execution_count": 30,
   "id": "4e7b9a36",
   "metadata": {},
   "outputs": [
    {
     "name": "stdout",
     "output_type": "stream",
     "text": [
      "training score 0.5196354511437161\n",
      "number of feature used: 9\n"
     ]
    }
   ],
   "source": [
    "from sklearn.linear_model import Ridge\n",
    "\n",
    "ridge = Ridge()\n",
    "ridge\n",
    "ridge.fit(x_train,y_train)\n",
    "ridge_score = ridge.score(x_test, y_test)\n",
    "coeff_used = np.sum(ridge.coef_ != 0)\n",
    "ridge.coef_\n",
    "print(\"training score\",ridge_score)\n",
    "print(\"number of feature used:\",coeff_used)"
   ]
  },
  {
   "cell_type": "markdown",
   "id": "787f8ee6",
   "metadata": {},
   "source": [
    "# Lasso Regression"
   ]
  },
  {
   "cell_type": "code",
   "execution_count": 32,
   "id": "746ba80b",
   "metadata": {},
   "outputs": [
    {
     "name": "stdout",
     "output_type": "stream",
     "text": [
      "training score 0.5200222195382457\n",
      "number of feature used: 9\n"
     ]
    },
    {
     "name": "stderr",
     "output_type": "stream",
     "text": [
      "C:\\Users\\16176\\anaconda3\\lib\\site-packages\\sklearn\\linear_model\\_coordinate_descent.py:530: ConvergenceWarning: Objective did not converge. You might want to increase the number of iterations. Duality gap: 365412.58758068085, tolerance: 276708.6393008062\n",
      "  model = cd_fast.enet_coordinate_descent(\n"
     ]
    }
   ],
   "source": [
    "from sklearn.linear_model import Lasso \n",
    "lasso = Lasso()\n",
    "lasso\n",
    "lasso.fit(x_train,y_train)\n",
    "lasso_score = lasso.score(x_test, y_test)\n",
    "coeff_used = np.sum(lasso.coef_ != 0)\n",
    "lasso.coef_\n",
    "print(\"training score\",lasso_score)\n",
    "print(\"number of feature used:\",coeff_used)"
   ]
  }
 ],
 "metadata": {
  "kernelspec": {
   "display_name": "Python 3 (ipykernel)",
   "language": "python",
   "name": "python3"
  },
  "language_info": {
   "codemirror_mode": {
    "name": "ipython",
    "version": 3
   },
   "file_extension": ".py",
   "mimetype": "text/x-python",
   "name": "python",
   "nbconvert_exporter": "python",
   "pygments_lexer": "ipython3",
   "version": "3.9.7"
  }
 },
 "nbformat": 4,
 "nbformat_minor": 5
}
